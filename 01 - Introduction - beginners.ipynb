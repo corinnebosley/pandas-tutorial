{
 "cells": [
  {
   "cell_type": "markdown",
   "metadata": {
    "collapsed": true,
    "slideshow": {
     "slide_type": "slide"
    }
   },
   "source": [
    "<CENTER>\n",
    "  <header>\n",
    "    <h1>Pandas Tutorial</h1>\n",
    "    <h3>EuroScipy, Erlangen DE, August 24th, 2016</h3>\n",
    "    <h2>Joris Van den Bossche</h2>\n",
    "    <p></p>\n",
    "Source: <a href=\"https://github.com/jorisvandenbossche/pandas-tutorial\">https://github.com/jorisvandenbossche/pandas-tutorial</a>\n",
    "  </header>\n",
    "</CENTER>"
   ]
  },
  {
   "cell_type": "markdown",
   "metadata": {
    "slideshow": {
     "slide_type": "slide"
    }
   },
   "source": [
    "# About me: Joris Van den Bossche\n",
    "\n",
    "- Researcher at Vrije Universiteit Brussel (VUB), and contractor for Continuum Analytics\n",
    "- PhD bio-science engineer, air quality research\n",
    "- pandas core dev\n",
    "\n",
    "->\n",
    "\n",
    "- https://github.com/jorisvandenbossche\n",
    "- [@jorisvdbossche](https://twitter.com/jorisvdbossche)\n",
    "\n",
    "\n",
    "Licensed under [CC BY 4.0 Creative Commons](http://creativecommons.org/licenses/by/4.0/)"
   ]
  },
  {
   "cell_type": "markdown",
   "metadata": {
    "slideshow": {
     "slide_type": "slide"
    }
   },
   "source": [
    "\n",
    "# Content of this talk\n",
    "\n",
    "- Why do you need pandas?\n",
    "- Basic introduction to:\n",
    "    - Data structures and basic operations\n",
    "    - Indexing and selecting data\n",
    "    - Groupby operation\n",
    " \n",
    "If you want to follow along, this is a notebook that you can view or run yourself:\n",
    "\n",
    "- All materials (notebook, data, link to nbviewer): https://github.com/jorisvandenbossche/pandas-tutorial\n",
    "- You need `pandas` >= 0.15.2 (easy solution is using Anaconda)"
   ]
  },
  {
   "cell_type": "markdown",
   "metadata": {
    "slideshow": {
     "slide_type": "slide"
    }
   },
   "source": [
    "# Why do you need pandas?"
   ]
  },
  {
   "cell_type": "markdown",
   "metadata": {
    "slideshow": {
     "slide_type": "subslide"
    }
   },
   "source": [
    "## Why do you need pandas?\n",
    "\n",
    "When working with *tabular or structured data* (like R dataframe, SQL table, Excel spreadsheet, ...):\n",
    "\n",
    "- Import data\n",
    "- Clean up messy data\n",
    "- Explore data, gain insight into data\n",
    "- Process and prepare your data for analysis\n",
    "- Analyse your data (together with scikit-learn, statsmodels, ...)"
   ]
  },
  {
   "cell_type": "markdown",
   "metadata": {
    "collapsed": true,
    "slideshow": {
     "slide_type": "subslide"
    }
   },
   "source": [
    "# Pandas: data analysis in python\n",
    "\n",
    "For data-intensive work in Python the [Pandas](http://pandas.pydata.org) library has become essential.\n",
    "\n",
    "What is ``pandas``?\n",
    "\n",
    "* Pandas can be thought of as NumPy arrays with labels for rows and columns, and better support for heterogeneous data types, but it's also much, much more than that.\n",
    "* Pandas can also be thought of as `R`'s `data.frame` in Python.\n",
    "* Powerful for working with missing data, working with time series data, for reading and writing your data, for reshaping, grouping, merging your data, ...\n",
    "\n",
    "It's documentation: http://pandas.pydata.org/pandas-docs/stable/"
   ]
  },
  {
   "cell_type": "markdown",
   "metadata": {
    "slideshow": {
     "slide_type": "subslide"
    }
   },
   "source": [
    "## Key features\n",
    "\n",
    "* Fast, easy and flexible input/output for a lot of different data formats\n",
    "* Working with missing data (`.dropna()`, `pd.isnull()`)\n",
    "* Merging and joining (`concat`, `join`)\n",
    "* Grouping: `groupby` functionality\n",
    "* Reshaping (`stack`, `pivot`)\n",
    "* Powerful time series manipulation (resampling, timezones, ..)\n",
    "* Easy plotting"
   ]
  },
  {
   "cell_type": "markdown",
   "metadata": {
    "collapsed": true,
    "slideshow": {
     "slide_type": "slide"
    }
   },
   "source": [
    "# Further reading\n",
    "\n",
    "- the documentation: http://pandas.pydata.org/pandas-docs/stable/\n",
    "- Wes McKinney's book \"Python for Data Analysis\"\n",
    "- Tom Augspurger's series on modern idiomatic pandas: https://tomaugspurger.github.io/modern-1.html\n",
    "- lots of tutorials on the internet, eg http://github.com/jvns/pandas-cookbook, https://github.com/brandon-rhodes/pycon-pandas-tutorial/"
   ]
  },
  {
   "cell_type": "markdown",
   "metadata": {
    "collapsed": true,
    "slideshow": {
     "slide_type": "slide"
    }
   },
   "source": [
    "## Thanks for listening! Questions?\n",
    "\n",
    "\n",
    "- https://github.com/jorisvandenbossche\n",
    "- <mailto:jorisvandenbossche@gmail.com>\n",
    "- [@jorisvdbossche](https://twitter.com/jorisvdbossche)\n",
    "\n",
    "\n",
    "Slides and data: Source: https://github.com/jorisvandenbossche/pandas-tutorial\n",
    "\n",
    "\n",
    "Slides presented with 'live reveal' https://github.com/damianavila/RISE\n"
   ]
  },
  {
   "cell_type": "code",
   "execution_count": null,
   "metadata": {
    "collapsed": true
   },
   "outputs": [],
   "source": []
  }
 ],
 "metadata": {
  "celltoolbar": "Slideshow",
  "kernelspec": {
   "display_name": "Python 2",
   "language": "python",
   "name": "python2"
  },
  "language_info": {
   "codemirror_mode": {
    "name": "ipython",
    "version": 2
   },
   "file_extension": ".py",
   "mimetype": "text/x-python",
   "name": "python",
   "nbconvert_exporter": "python",
   "pygments_lexer": "ipython2",
   "version": "2.7.12"
  }
 },
 "nbformat": 4,
 "nbformat_minor": 0
}
